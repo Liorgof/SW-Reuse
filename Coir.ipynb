{
 "cells": [
  {
   "cell_type": "code",
   "execution_count": null,
   "metadata": {},
   "outputs": [],
   "source": [
    "!pip install coir-eval"
   ]
  },
  {
   "cell_type": "code",
   "execution_count": null,
   "metadata": {},
   "outputs": [],
   "source": [
    "import coir\n",
    "from coir.data_loader import get_tasks\n",
    "from coir.evaluation import COIR\n",
    "from coir.models import YourCustomDEModel\n",
    "\n",
    "model_name = \"codesage/codesage-large\"\n",
    "\n",
    "# Load the model\n",
    "model = YourCustomDEModel(model_name=model_name)\n",
    "\n",
    "# Get tasks for Java code only\n",
    "# The 'codesearchnet-ccr-java' dataset filters only Java-related code\n",
    "tasks = get_tasks(tasks=[\"codesearchnet-ccr-java\"])"
   ]
  },
  {
   "cell_type": "code",
   "execution_count": null,
   "metadata": {},
   "outputs": [],
   "source": [
    "# Initialize evaluation\n",
    "evaluation = COIR(tasks=tasks, batch_size=128)\n",
    "\n",
    "# Run evaluation\n",
    "results = evaluation.run(model, output_folder=f\"{model_name}\")\n",
    "print(results)"
   ]
  },
  {
   "cell_type": "code",
   "execution_count": null,
   "metadata": {},
   "outputs": [],
   "source": [
    "import torch\n",
    "import coir\n",
    "from coir.data_loader import get_tasks\n",
    "from coir.evaluation import COIR\n",
    "from coir.models import YourCustomDEModel\n",
    "\n",
    "\n",
    "model_name = \"codesage/codesage-large\"\n",
    "\n",
    "device = torch.device(\"cpu\")\n",
    "\n",
    "\n",
    "torch.cuda.empty_cache()\n",
    "\n",
    "\n",
    "model = YourCustomDEModel(model_name=model_name, device=device)\n",
    "\n",
    "\n",
    "print(\"Model device:\", next(model.model.parameters()).device)\n",
    "\n",
    "\n",
    "tasks = get_tasks(tasks=[\"codesearchnet-ccr-java\"])\n",
    "\n",
    "evaluation = COIR(tasks=tasks, batch_size=4)  \n",
    "\n",
    "# הרצת evaluation\n",
    "results = evaluation.run(model, output_folder=f\"{model_name}\")\n",
    "print(results)"
   ]
  }
 ],
 "metadata": {
  "kernelspec": {
   "display_name": "Python 3",
   "language": "python",
   "name": "python3"
  },
  "language_info": {
   "codemirror_mode": {
    "name": "ipython",
    "version": 3
   },
   "file_extension": ".py",
   "mimetype": "text/x-python",
   "name": "python",
   "nbconvert_exporter": "python",
   "pygments_lexer": "ipython3",
   "version": "3.11.0"
  }
 },
 "nbformat": 4,
 "nbformat_minor": 2
}
