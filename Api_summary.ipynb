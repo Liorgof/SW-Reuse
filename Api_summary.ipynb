{
  "cells": [
    {
      "cell_type": "code",
      "execution_count": null,
      "metadata": {
        "id": "uzZXTNoZ5x9S"
      },
      "outputs": [],
      "source": [
        "import requests\n",
        "import re\n",
        "import time\n",
        "import pandas as pd\n",
        "from tqdm import tqdm  # For progress tracking\n",
        "\n",
        "# API details\n",
        "API_URL = \"https://openrouter.ai/api/v1/chat/completions\""
      ]
    },
    {
      "cell_type": "code",
      "execution_count": null,
      "metadata": {
        "id": "Xj7ihrN_6LSI"
      },
      "outputs": [],
      "source": [
        "# Load data\n",
        "test_df = pd.read_csv('summarized_java_code_8000_rows_gimini.csv')\n",
        "test_df = test_df.iloc[6100:6800]\n",
        "test_df"
      ]
    },
    {
      "cell_type": "code",
      "execution_count": null,
      "metadata": {
        "id": "MPv_yL4uFNky"
      },
      "outputs": [],
      "source": [
        "test_df = test_df[test_df['Summaries'].isna()]"
      ]
    },
    {
      "cell_type": "code",
      "execution_count": null,
      "metadata": {
        "colab": {
          "base_uri": "https://localhost:8080/",
          "height": 424
        },
        "id": "X27g4o2u6T8W",
        "outputId": "7ccca8df-808d-447e-b479-fff9c5ea7404"
      },
      "outputs": [
        {
          "data": {
            "application/vnd.google.colaboratory.intrinsic+json": {
              "summary": "{\n  \"name\": \"test_df\",\n  \"rows\": 700,\n  \"fields\": [\n    {\n      \"column\": \"func_code_string\",\n      \"properties\": {\n        \"dtype\": \"string\",\n        \"num_unique_values\": 700,\n        \"samples\": [\n          \"public void internalCreate(OrientDBConfig config, OSharedContext ctx) {\\n    this.sharedContext = ctx;\\n    this.status = STATUS.OPEN;\\n    // THIS IF SHOULDN'T BE NEEDED, CREATE HAPPEN ONLY IN EMBEDDED\\n    applyAttributes(config);\\n    applyListeners(config);\\n    metadata = new OMetadataDefault(this);\\n    installHooksEmbedded();\\n    createMetadata(ctx);\\n\\n    if (this.getMetadata().getCommandCache().isEnabled())\\n      registerHook(new OCommandCacheHook(this), ORecordHook.HOOK_POSITION.REGULAR);\\n  }\",\n          \"public OServerUserConfiguration getUser(final String username) {\\n    OServerUserConfiguration userCfg = null;\\n\\n    try {\\n      if (getServer() != null) {\\n        OUser user = getServer().getSecurity().getSystemUser(username, null);\\n\\n        if (user != null && user.getAccountStatus() == OSecurityUser.STATUSES.ACTIVE) {\\n          userCfg = new OServerUserConfiguration(user.getName(), \\\"\\\", \\\"\\\");\\n        }\\n      }\\n    } catch (Exception ex) {\\n      OLogManager.instance().error(this, \\\"getUser()\\\", ex);\\n    }\\n\\n    return userCfg;\\n  }\",\n          \"public static JSONObject jsonFromElement(final Element element, final Set<String> propertyKeys, final GraphSONMode mode)\\n      throws JSONException {\\n    final OGraphSONUtility graphson = element instanceof Edge ? new OGraphSONUtility(mode, null, null, propertyKeys)\\n        : new OGraphSONUtility(mode, null, propertyKeys, null);\\n    return graphson.jsonFromElement(element);\\n  }\"\n        ],\n        \"semantic_type\": \"\",\n        \"description\": \"\"\n      }\n    },\n    {\n      \"column\": \"func_documentation_string\",\n      \"properties\": {\n        \"dtype\": \"string\",\n        \"num_unique_values\": 580,\n        \"samples\": [\n          \"Sets a property value\\n\\n@param iName  Property name\\n@param iValue new value to set\\n\\n@return The previous value if any, otherwise null\",\n          \"Fires event about exception is thrown in data flush thread\",\n          \"Deletes the current record.\"\n        ],\n        \"semantic_type\": \"\",\n        \"description\": \"\"\n      }\n    }\n  ]\n}",
              "type": "dataframe",
              "variable_name": "test_df"
            },
            "text/html": [
              "\n",
              "  <div id=\"df-77ebc6df-3b08-494b-8511-843dcac1a793\" class=\"colab-df-container\">\n",
              "    <div>\n",
              "<style scoped>\n",
              "    .dataframe tbody tr th:only-of-type {\n",
              "        vertical-align: middle;\n",
              "    }\n",
              "\n",
              "    .dataframe tbody tr th {\n",
              "        vertical-align: top;\n",
              "    }\n",
              "\n",
              "    .dataframe thead th {\n",
              "        text-align: right;\n",
              "    }\n",
              "</style>\n",
              "<table border=\"1\" class=\"dataframe\">\n",
              "  <thead>\n",
              "    <tr style=\"text-align: right;\">\n",
              "      <th></th>\n",
              "      <th>func_code_string</th>\n",
              "      <th>func_documentation_string</th>\n",
              "    </tr>\n",
              "  </thead>\n",
              "  <tbody>\n",
              "    <tr>\n",
              "      <th>6100</th>\n",
              "      <td>@Override\\n  public void memberRemoved(final M...</td>\n",
              "      <td>Removes the node map entry.</td>\n",
              "    </tr>\n",
              "    <tr>\n",
              "      <th>6101</th>\n",
              "      <td>@Override\\n  public String electNewLockManager...</td>\n",
              "      <td>Elects a new server as coordinator. The electi...</td>\n",
              "    </tr>\n",
              "    <tr>\n",
              "      <th>6102</th>\n",
              "      <td>protected static OObjectDatabaseTx getDatabase...</td>\n",
              "      <td>Gets the current thread database as a ODatabas...</td>\n",
              "    </tr>\n",
              "    <tr>\n",
              "      <th>6103</th>\n",
              "      <td>public String toCreateIndexDDL(final String in...</td>\n",
              "      <td>{@inheritDoc}\\n\\n@param indexName\\n@param inde...</td>\n",
              "    </tr>\n",
              "    <tr>\n",
              "      <th>6104</th>\n",
              "      <td>protected void init(final Configuration config...</td>\n",
              "      <td>Builds a OrientGraph instance passing a config...</td>\n",
              "    </tr>\n",
              "    <tr>\n",
              "      <th>...</th>\n",
              "      <td>...</td>\n",
              "      <td>...</td>\n",
              "    </tr>\n",
              "    <tr>\n",
              "      <th>6795</th>\n",
              "      <td>@Override\\n  @Deprecated\\n  public &lt;REC extend...</td>\n",
              "      <td>{@inheritDoc}</td>\n",
              "    </tr>\n",
              "    <tr>\n",
              "      <th>6796</th>\n",
              "      <td>public OCommandRequest command(final OCommandR...</td>\n",
              "      <td>{@inheritDoc}</td>\n",
              "    </tr>\n",
              "    <tr>\n",
              "      <th>6797</th>\n",
              "      <td>public &lt;RET extends List&lt;?&gt;&gt; RET query(final O...</td>\n",
              "      <td>{@inheritDoc}</td>\n",
              "    </tr>\n",
              "    <tr>\n",
              "      <th>6798</th>\n",
              "      <td>@Override\\n  public long countClusterElements(...</td>\n",
              "      <td>{@inheritDoc}</td>\n",
              "    </tr>\n",
              "    <tr>\n",
              "      <th>6799</th>\n",
              "      <td>@Override\\n  public long countClusterElements(...</td>\n",
              "      <td>{@inheritDoc}</td>\n",
              "    </tr>\n",
              "  </tbody>\n",
              "</table>\n",
              "<p>700 rows × 2 columns</p>\n",
              "</div>\n",
              "    <div class=\"colab-df-buttons\">\n",
              "\n",
              "  <div class=\"colab-df-container\">\n",
              "    <button class=\"colab-df-convert\" onclick=\"convertToInteractive('df-77ebc6df-3b08-494b-8511-843dcac1a793')\"\n",
              "            title=\"Convert this dataframe to an interactive table.\"\n",
              "            style=\"display:none;\">\n",
              "\n",
              "  <svg xmlns=\"http://www.w3.org/2000/svg\" height=\"24px\" viewBox=\"0 -960 960 960\">\n",
              "    <path d=\"M120-120v-720h720v720H120Zm60-500h600v-160H180v160Zm220 220h160v-160H400v160Zm0 220h160v-160H400v160ZM180-400h160v-160H180v160Zm440 0h160v-160H620v160ZM180-180h160v-160H180v160Zm440 0h160v-160H620v160Z\"/>\n",
              "  </svg>\n",
              "    </button>\n",
              "\n",
              "  <style>\n",
              "    .colab-df-container {\n",
              "      display:flex;\n",
              "      gap: 12px;\n",
              "    }\n",
              "\n",
              "    .colab-df-convert {\n",
              "      background-color: #E8F0FE;\n",
              "      border: none;\n",
              "      border-radius: 50%;\n",
              "      cursor: pointer;\n",
              "      display: none;\n",
              "      fill: #1967D2;\n",
              "      height: 32px;\n",
              "      padding: 0 0 0 0;\n",
              "      width: 32px;\n",
              "    }\n",
              "\n",
              "    .colab-df-convert:hover {\n",
              "      background-color: #E2EBFA;\n",
              "      box-shadow: 0px 1px 2px rgba(60, 64, 67, 0.3), 0px 1px 3px 1px rgba(60, 64, 67, 0.15);\n",
              "      fill: #174EA6;\n",
              "    }\n",
              "\n",
              "    .colab-df-buttons div {\n",
              "      margin-bottom: 4px;\n",
              "    }\n",
              "\n",
              "    [theme=dark] .colab-df-convert {\n",
              "      background-color: #3B4455;\n",
              "      fill: #D2E3FC;\n",
              "    }\n",
              "\n",
              "    [theme=dark] .colab-df-convert:hover {\n",
              "      background-color: #434B5C;\n",
              "      box-shadow: 0px 1px 3px 1px rgba(0, 0, 0, 0.15);\n",
              "      filter: drop-shadow(0px 1px 2px rgba(0, 0, 0, 0.3));\n",
              "      fill: #FFFFFF;\n",
              "    }\n",
              "  </style>\n",
              "\n",
              "    <script>\n",
              "      const buttonEl =\n",
              "        document.querySelector('#df-77ebc6df-3b08-494b-8511-843dcac1a793 button.colab-df-convert');\n",
              "      buttonEl.style.display =\n",
              "        google.colab.kernel.accessAllowed ? 'block' : 'none';\n",
              "\n",
              "      async function convertToInteractive(key) {\n",
              "        const element = document.querySelector('#df-77ebc6df-3b08-494b-8511-843dcac1a793');\n",
              "        const dataTable =\n",
              "          await google.colab.kernel.invokeFunction('convertToInteractive',\n",
              "                                                    [key], {});\n",
              "        if (!dataTable) return;\n",
              "\n",
              "        const docLinkHtml = 'Like what you see? Visit the ' +\n",
              "          '<a target=\"_blank\" href=https://colab.research.google.com/notebooks/data_table.ipynb>data table notebook</a>'\n",
              "          + ' to learn more about interactive tables.';\n",
              "        element.innerHTML = '';\n",
              "        dataTable['output_type'] = 'display_data';\n",
              "        await google.colab.output.renderOutput(dataTable, element);\n",
              "        const docLink = document.createElement('div');\n",
              "        docLink.innerHTML = docLinkHtml;\n",
              "        element.appendChild(docLink);\n",
              "      }\n",
              "    </script>\n",
              "  </div>\n",
              "\n",
              "\n",
              "<div id=\"df-a253758b-8769-4c2f-9ff3-762ef066d448\">\n",
              "  <button class=\"colab-df-quickchart\" onclick=\"quickchart('df-a253758b-8769-4c2f-9ff3-762ef066d448')\"\n",
              "            title=\"Suggest charts\"\n",
              "            style=\"display:none;\">\n",
              "\n",
              "<svg xmlns=\"http://www.w3.org/2000/svg\" height=\"24px\"viewBox=\"0 0 24 24\"\n",
              "     width=\"24px\">\n",
              "    <g>\n",
              "        <path d=\"M19 3H5c-1.1 0-2 .9-2 2v14c0 1.1.9 2 2 2h14c1.1 0 2-.9 2-2V5c0-1.1-.9-2-2-2zM9 17H7v-7h2v7zm4 0h-2V7h2v10zm4 0h-2v-4h2v4z\"/>\n",
              "    </g>\n",
              "</svg>\n",
              "  </button>\n",
              "\n",
              "<style>\n",
              "  .colab-df-quickchart {\n",
              "      --bg-color: #E8F0FE;\n",
              "      --fill-color: #1967D2;\n",
              "      --hover-bg-color: #E2EBFA;\n",
              "      --hover-fill-color: #174EA6;\n",
              "      --disabled-fill-color: #AAA;\n",
              "      --disabled-bg-color: #DDD;\n",
              "  }\n",
              "\n",
              "  [theme=dark] .colab-df-quickchart {\n",
              "      --bg-color: #3B4455;\n",
              "      --fill-color: #D2E3FC;\n",
              "      --hover-bg-color: #434B5C;\n",
              "      --hover-fill-color: #FFFFFF;\n",
              "      --disabled-bg-color: #3B4455;\n",
              "      --disabled-fill-color: #666;\n",
              "  }\n",
              "\n",
              "  .colab-df-quickchart {\n",
              "    background-color: var(--bg-color);\n",
              "    border: none;\n",
              "    border-radius: 50%;\n",
              "    cursor: pointer;\n",
              "    display: none;\n",
              "    fill: var(--fill-color);\n",
              "    height: 32px;\n",
              "    padding: 0;\n",
              "    width: 32px;\n",
              "  }\n",
              "\n",
              "  .colab-df-quickchart:hover {\n",
              "    background-color: var(--hover-bg-color);\n",
              "    box-shadow: 0 1px 2px rgba(60, 64, 67, 0.3), 0 1px 3px 1px rgba(60, 64, 67, 0.15);\n",
              "    fill: var(--button-hover-fill-color);\n",
              "  }\n",
              "\n",
              "  .colab-df-quickchart-complete:disabled,\n",
              "  .colab-df-quickchart-complete:disabled:hover {\n",
              "    background-color: var(--disabled-bg-color);\n",
              "    fill: var(--disabled-fill-color);\n",
              "    box-shadow: none;\n",
              "  }\n",
              "\n",
              "  .colab-df-spinner {\n",
              "    border: 2px solid var(--fill-color);\n",
              "    border-color: transparent;\n",
              "    border-bottom-color: var(--fill-color);\n",
              "    animation:\n",
              "      spin 1s steps(1) infinite;\n",
              "  }\n",
              "\n",
              "  @keyframes spin {\n",
              "    0% {\n",
              "      border-color: transparent;\n",
              "      border-bottom-color: var(--fill-color);\n",
              "      border-left-color: var(--fill-color);\n",
              "    }\n",
              "    20% {\n",
              "      border-color: transparent;\n",
              "      border-left-color: var(--fill-color);\n",
              "      border-top-color: var(--fill-color);\n",
              "    }\n",
              "    30% {\n",
              "      border-color: transparent;\n",
              "      border-left-color: var(--fill-color);\n",
              "      border-top-color: var(--fill-color);\n",
              "      border-right-color: var(--fill-color);\n",
              "    }\n",
              "    40% {\n",
              "      border-color: transparent;\n",
              "      border-right-color: var(--fill-color);\n",
              "      border-top-color: var(--fill-color);\n",
              "    }\n",
              "    60% {\n",
              "      border-color: transparent;\n",
              "      border-right-color: var(--fill-color);\n",
              "    }\n",
              "    80% {\n",
              "      border-color: transparent;\n",
              "      border-right-color: var(--fill-color);\n",
              "      border-bottom-color: var(--fill-color);\n",
              "    }\n",
              "    90% {\n",
              "      border-color: transparent;\n",
              "      border-bottom-color: var(--fill-color);\n",
              "    }\n",
              "  }\n",
              "</style>\n",
              "\n",
              "  <script>\n",
              "    async function quickchart(key) {\n",
              "      const quickchartButtonEl =\n",
              "        document.querySelector('#' + key + ' button');\n",
              "      quickchartButtonEl.disabled = true;  // To prevent multiple clicks.\n",
              "      quickchartButtonEl.classList.add('colab-df-spinner');\n",
              "      try {\n",
              "        const charts = await google.colab.kernel.invokeFunction(\n",
              "            'suggestCharts', [key], {});\n",
              "      } catch (error) {\n",
              "        console.error('Error during call to suggestCharts:', error);\n",
              "      }\n",
              "      quickchartButtonEl.classList.remove('colab-df-spinner');\n",
              "      quickchartButtonEl.classList.add('colab-df-quickchart-complete');\n",
              "    }\n",
              "    (() => {\n",
              "      let quickchartButtonEl =\n",
              "        document.querySelector('#df-a253758b-8769-4c2f-9ff3-762ef066d448 button');\n",
              "      quickchartButtonEl.style.display =\n",
              "        google.colab.kernel.accessAllowed ? 'block' : 'none';\n",
              "    })();\n",
              "  </script>\n",
              "</div>\n",
              "\n",
              "  <div id=\"id_59405349-5085-435c-a0ec-b9ca7699ead3\">\n",
              "    <style>\n",
              "      .colab-df-generate {\n",
              "        background-color: #E8F0FE;\n",
              "        border: none;\n",
              "        border-radius: 50%;\n",
              "        cursor: pointer;\n",
              "        display: none;\n",
              "        fill: #1967D2;\n",
              "        height: 32px;\n",
              "        padding: 0 0 0 0;\n",
              "        width: 32px;\n",
              "      }\n",
              "\n",
              "      .colab-df-generate:hover {\n",
              "        background-color: #E2EBFA;\n",
              "        box-shadow: 0px 1px 2px rgba(60, 64, 67, 0.3), 0px 1px 3px 1px rgba(60, 64, 67, 0.15);\n",
              "        fill: #174EA6;\n",
              "      }\n",
              "\n",
              "      [theme=dark] .colab-df-generate {\n",
              "        background-color: #3B4455;\n",
              "        fill: #D2E3FC;\n",
              "      }\n",
              "\n",
              "      [theme=dark] .colab-df-generate:hover {\n",
              "        background-color: #434B5C;\n",
              "        box-shadow: 0px 1px 3px 1px rgba(0, 0, 0, 0.15);\n",
              "        filter: drop-shadow(0px 1px 2px rgba(0, 0, 0, 0.3));\n",
              "        fill: #FFFFFF;\n",
              "      }\n",
              "    </style>\n",
              "    <button class=\"colab-df-generate\" onclick=\"generateWithVariable('test_df')\"\n",
              "            title=\"Generate code using this dataframe.\"\n",
              "            style=\"display:none;\">\n",
              "\n",
              "  <svg xmlns=\"http://www.w3.org/2000/svg\" height=\"24px\"viewBox=\"0 0 24 24\"\n",
              "       width=\"24px\">\n",
              "    <path d=\"M7,19H8.4L18.45,9,17,7.55,7,17.6ZM5,21V16.75L18.45,3.32a2,2,0,0,1,2.83,0l1.4,1.43a1.91,1.91,0,0,1,.58,1.4,1.91,1.91,0,0,1-.58,1.4L9.25,21ZM18.45,9,17,7.55Zm-12,3A5.31,5.31,0,0,0,4.9,8.1,5.31,5.31,0,0,0,1,6.5,5.31,5.31,0,0,0,4.9,4.9,5.31,5.31,0,0,0,6.5,1,5.31,5.31,0,0,0,8.1,4.9,5.31,5.31,0,0,0,12,6.5,5.46,5.46,0,0,0,6.5,12Z\"/>\n",
              "  </svg>\n",
              "    </button>\n",
              "    <script>\n",
              "      (() => {\n",
              "      const buttonEl =\n",
              "        document.querySelector('#id_59405349-5085-435c-a0ec-b9ca7699ead3 button.colab-df-generate');\n",
              "      buttonEl.style.display =\n",
              "        google.colab.kernel.accessAllowed ? 'block' : 'none';\n",
              "\n",
              "      buttonEl.onclick = () => {\n",
              "        google.colab.notebook.generateWithVariable('test_df');\n",
              "      }\n",
              "      })();\n",
              "    </script>\n",
              "  </div>\n",
              "\n",
              "    </div>\n",
              "  </div>\n"
            ],
            "text/plain": [
              "                                       func_code_string  \\\n",
              "6100  @Override\\n  public void memberRemoved(final M...   \n",
              "6101  @Override\\n  public String electNewLockManager...   \n",
              "6102  protected static OObjectDatabaseTx getDatabase...   \n",
              "6103  public String toCreateIndexDDL(final String in...   \n",
              "6104  protected void init(final Configuration config...   \n",
              "...                                                 ...   \n",
              "6795  @Override\\n  @Deprecated\\n  public <REC extend...   \n",
              "6796  public OCommandRequest command(final OCommandR...   \n",
              "6797  public <RET extends List<?>> RET query(final O...   \n",
              "6798  @Override\\n  public long countClusterElements(...   \n",
              "6799  @Override\\n  public long countClusterElements(...   \n",
              "\n",
              "                              func_documentation_string  \n",
              "6100                        Removes the node map entry.  \n",
              "6101  Elects a new server as coordinator. The electi...  \n",
              "6102  Gets the current thread database as a ODatabas...  \n",
              "6103  {@inheritDoc}\\n\\n@param indexName\\n@param inde...  \n",
              "6104  Builds a OrientGraph instance passing a config...  \n",
              "...                                                 ...  \n",
              "6795                                      {@inheritDoc}  \n",
              "6796                                      {@inheritDoc}  \n",
              "6797                                      {@inheritDoc}  \n",
              "6798                                      {@inheritDoc}  \n",
              "6799                                      {@inheritDoc}  \n",
              "\n",
              "[700 rows x 2 columns]"
            ]
          },
          "execution_count": 3,
          "metadata": {},
          "output_type": "execute_result"
        }
      ],
      "source": [
        "# Load the CSV file\n",
        "test_df = test_df.drop(columns=['Summaries'])\n",
        "test_df"
      ]
    },
    {
      "cell_type": "code",
      "execution_count": null,
      "metadata": {
        "id": "0sB37d3_6gul"
      },
      "outputs": [],
      "source": [
        "import requests\n",
        "import time\n",
        "import pandas as pd\n",
        "from tqdm import tqdm\n",
        "import itertools\n",
        "\n",
        "# Define multiple API keys (replace with actual keys – do NOT expose real keys in public repos)\n",
        "API_KEYS = [\n",
        "    \"<YOUR_API_KEY_1>\",\n",
        "    \"<YOUR_API_KEY_2>\",\n",
        "    \"<YOUR_API_KEY_3>\",\n",
        "    \"<YOUR_API_KEY_4>\",\n",
        "    \"<YOUR_API_KEY_5>\",\n",
        "    \"<YOUR_API_KEY_6>\"\n",
        "]\n",
        "\n",
        "# API details\n",
        "API_URL = \"https://openrouter.ai/api/v1/chat/completions\"\n",
        "\n",
        "# Set up API key tracking\n",
        "api_key_usage = {key: 0 for key in API_KEYS}  # Track requests per key\n",
        "active_keys = API_KEYS.copy()  # Keeps track of available keys\n",
        "\n",
        "# Function to get the next available API key with remaining quota\n",
        "def get_next_api_key():\n",
        "    global active_keys\n",
        "    for key in active_keys:\n",
        "        if api_key_usage[key] < 150:\n",
        "            return key\n",
        "    return None  # If all keys are exhausted, return None\n",
        "\n",
        "# Function to summarize a single Java function using a specific API key\n",
        "def summarize_single_code(code, api_key):\n",
        "    data = {\n",
        "        \"model\": \"deepseek/deepseek-r1-distill-llama-70b:free\",\n",
        "        \"messages\": [\n",
        "            {\n",
        "                \"role\": \"user\",\n",
        "                \"content\": (\n",
        "                    \"Analyze the following Java function and provide an accurate, standalone summary in exactly three sentences. \"\n",
        "                    \"Ensure the summary precisely describes this function’s purpose, parameters, and key functionality \"\n",
        "                    \"without including any unrelated information. The summary should be concise but detailed enough to reflect \"\n",
        "                    \"the function's core operations.\\n\\n\"\n",
        "                    f\"Function:\\n```java\\n{code}\\n```\"\n",
        "                )\n",
        "            }\n",
        "        ]\n",
        "    }\n",
        "\n",
        "    headers = {\"Authorization\": f\"Bearer {api_key}\", \"Content-Type\": \"application/json\"}\n",
        "\n",
        "    try:\n",
        "        response = requests.post(API_URL, headers=headers, json=data)\n",
        "        response.raise_for_status()\n",
        "        summary_text = response.json().get('choices', [{}])[0].get('message', {}).get('content', \"\").strip()\n",
        "\n",
        "        # Check if the response is generic\n",
        "        if not summary_text or \"Java code\" in summary_text or len(summary_text.split()) < 10:\n",
        "            print(\"Warning: Possible generic response, needs manual review.\")\n",
        "            return None\n",
        "\n",
        "        return summary_text\n",
        "\n",
        "    except requests.exceptions.HTTPError as http_err:\n",
        "        print(f\"HTTP error occurred: {http_err}\")\n",
        "        return None\n",
        "    except Exception as e:\n",
        "        print(f\"An error occurred: {e}\")\n",
        "        return None\n",
        "\n",
        "# Function to distribute summarization across API keys\n",
        "def summarize_code_df(df, delay=1):\n",
        "    df = df.copy()\n",
        "    summaries = []\n",
        "\n",
        "    for index, row in tqdm(df.iterrows(), total=len(df), desc=\"Processing Functions\"):\n",
        "        api_key = get_next_api_key()  # Get an API key with quota left\n",
        "\n",
        "        if api_key is None:\n",
        "            print(\"All API keys exhausted. Stopping execution.\")\n",
        "            break  # Stop processing if all keys are used up\n",
        "\n",
        "        summary = summarize_single_code(str(row['func_code_string']), api_key)\n",
        "        summaries.append(summary)\n",
        "        api_key_usage[api_key] += 1  # Track usage\n",
        "\n",
        "        # If key reaches 150 requests, remove it from active keys\n",
        "        if api_key_usage[api_key] >= 150:\n",
        "            active_keys.remove(api_key)\n",
        "\n",
        "        time.sleep(delay)  # Avoid hitting rate limits\n",
        "\n",
        "    df['Summaries'] = summaries\n",
        "    return df\n"
      ]
    },
    {
      "cell_type": "code",
      "execution_count": null,
      "metadata": {
        "colab": {
          "base_uri": "https://localhost:8080/",
          "height": 1000
        },
        "id": "4qC5RLTd6jDP",
        "outputId": "0dfd3f13-dd80-468a-a65b-51f2b9d6acd7"
      },
      "outputs": [
        {
          "name": "stderr",
          "output_type": "stream",
          "text": [
            "Processing Functions:   6%|▌         | 42/700 [09:47<2:41:36, 14.74s/it]"
          ]
        },
        {
          "name": "stdout",
          "output_type": "stream",
          "text": [
            "Warning: Possible generic response, needs manual review.\n"
          ]
        },
        {
          "name": "stderr",
          "output_type": "stream",
          "text": [
            "Processing Functions:   6%|▋         | 45/700 [10:25<2:27:58, 13.56s/it]"
          ]
        },
        {
          "name": "stdout",
          "output_type": "stream",
          "text": [
            "Warning: Possible generic response, needs manual review.\n"
          ]
        },
        {
          "name": "stderr",
          "output_type": "stream",
          "text": [
            "Processing Functions:   7%|▋         | 52/700 [11:56<2:21:25, 13.09s/it]"
          ]
        },
        {
          "name": "stdout",
          "output_type": "stream",
          "text": [
            "Warning: Possible generic response, needs manual review.\n"
          ]
        },
        {
          "name": "stderr",
          "output_type": "stream",
          "text": [
            "Processing Functions:  16%|█▋        | 114/700 [28:36<2:40:42, 16.45s/it]"
          ]
        },
        {
          "name": "stdout",
          "output_type": "stream",
          "text": [
            "Warning: Possible generic response, needs manual review.\n"
          ]
        },
        {
          "name": "stderr",
          "output_type": "stream",
          "text": [
            "Processing Functions:  22%|██▏       | 154/700 [38:46<2:13:43, 14.70s/it]"
          ]
        },
        {
          "name": "stdout",
          "output_type": "stream",
          "text": [
            "Warning: Possible generic response, needs manual review.\n"
          ]
        },
        {
          "name": "stderr",
          "output_type": "stream",
          "text": [
            "Processing Functions:  24%|██▎       | 165/700 [40:23<1:09:33,  7.80s/it]"
          ]
        },
        {
          "name": "stdout",
          "output_type": "stream",
          "text": [
            "Warning: Possible generic response, needs manual review.\n"
          ]
        },
        {
          "name": "stderr",
          "output_type": "stream",
          "text": [
            "\rProcessing Functions:  24%|██▎       | 166/700 [40:25<55:01,  6.18s/it]  "
          ]
        },
        {
          "name": "stdout",
          "output_type": "stream",
          "text": [
            "Warning: Possible generic response, needs manual review.\n"
          ]
        },
        {
          "name": "stderr",
          "output_type": "stream",
          "text": [
            "Processing Functions:  25%|██▌       | 177/700 [42:54<2:03:48, 14.20s/it]"
          ]
        },
        {
          "name": "stdout",
          "output_type": "stream",
          "text": [
            "Warning: Possible generic response, needs manual review.\n"
          ]
        },
        {
          "name": "stderr",
          "output_type": "stream",
          "text": [
            "Processing Functions:  26%|██▌       | 182/700 [43:39<1:18:20,  9.07s/it]"
          ]
        },
        {
          "name": "stdout",
          "output_type": "stream",
          "text": [
            "Warning: Possible generic response, needs manual review.\n"
          ]
        },
        {
          "name": "stderr",
          "output_type": "stream",
          "text": [
            "Processing Functions:  29%|██▉       | 202/700 [48:28<1:24:55, 10.23s/it]"
          ]
        },
        {
          "name": "stdout",
          "output_type": "stream",
          "text": [
            "Warning: Possible generic response, needs manual review.\n"
          ]
        },
        {
          "name": "stderr",
          "output_type": "stream",
          "text": [
            "Processing Functions:  33%|███▎      | 231/700 [54:37<1:47:29, 13.75s/it]"
          ]
        },
        {
          "name": "stdout",
          "output_type": "stream",
          "text": [
            "Warning: Possible generic response, needs manual review.\n"
          ]
        },
        {
          "name": "stderr",
          "output_type": "stream",
          "text": [
            "Processing Functions:  34%|███▎      | 235/700 [55:19<1:31:08, 11.76s/it]"
          ]
        },
        {
          "name": "stdout",
          "output_type": "stream",
          "text": [
            "Warning: Possible generic response, needs manual review.\n"
          ]
        },
        {
          "name": "stderr",
          "output_type": "stream",
          "text": [
            "Processing Functions:  46%|████▋     | 325/700 [1:14:06<2:14:13, 21.48s/it]"
          ]
        },
        {
          "name": "stdout",
          "output_type": "stream",
          "text": [
            "Warning: Possible generic response, needs manual review.\n"
          ]
        },
        {
          "name": "stderr",
          "output_type": "stream",
          "text": [
            "Processing Functions:  48%|████▊     | 337/700 [1:17:40<2:21:21, 23.36s/it]"
          ]
        },
        {
          "name": "stdout",
          "output_type": "stream",
          "text": [
            "Warning: Possible generic response, needs manual review.\n"
          ]
        },
        {
          "name": "stderr",
          "output_type": "stream",
          "text": [
            "Processing Functions:  50%|█████     | 350/700 [1:20:23<1:29:00, 15.26s/it]"
          ]
        },
        {
          "name": "stdout",
          "output_type": "stream",
          "text": [
            "Warning: Possible generic response, needs manual review.\n"
          ]
        },
        {
          "name": "stderr",
          "output_type": "stream",
          "text": [
            "Processing Functions:  52%|█████▏    | 362/700 [1:22:29<57:44, 10.25s/it]  "
          ]
        },
        {
          "name": "stdout",
          "output_type": "stream",
          "text": [
            "Warning: Possible generic response, needs manual review.\n"
          ]
        },
        {
          "name": "stderr",
          "output_type": "stream",
          "text": [
            "Processing Functions:  53%|█████▎    | 372/700 [1:24:54<1:08:15, 12.49s/it]"
          ]
        },
        {
          "name": "stdout",
          "output_type": "stream",
          "text": [
            "Warning: Possible generic response, needs manual review.\n"
          ]
        },
        {
          "name": "stderr",
          "output_type": "stream",
          "text": [
            "Processing Functions:  61%|██████    | 424/700 [1:37:21<43:26,  9.44s/it]"
          ]
        },
        {
          "name": "stdout",
          "output_type": "stream",
          "text": [
            "Warning: Possible generic response, needs manual review.\n"
          ]
        },
        {
          "name": "stderr",
          "output_type": "stream",
          "text": [
            "Processing Functions:  62%|██████▏   | 435/700 [1:39:26<53:34, 12.13s/it]  "
          ]
        },
        {
          "name": "stdout",
          "output_type": "stream",
          "text": [
            "Warning: Possible generic response, needs manual review.\n"
          ]
        },
        {
          "name": "stderr",
          "output_type": "stream",
          "text": [
            "Processing Functions:  68%|██████▊   | 475/700 [1:48:01<39:12, 10.46s/it]"
          ]
        },
        {
          "name": "stdout",
          "output_type": "stream",
          "text": [
            "Warning: Possible generic response, needs manual review.\n"
          ]
        },
        {
          "name": "stderr",
          "output_type": "stream",
          "text": [
            "Processing Functions:  68%|██████▊   | 479/700 [1:48:57<46:16, 12.56s/it]"
          ]
        },
        {
          "name": "stdout",
          "output_type": "stream",
          "text": [
            "Warning: Possible generic response, needs manual review.\n"
          ]
        },
        {
          "name": "stderr",
          "output_type": "stream",
          "text": [
            "Processing Functions:  69%|██████▉   | 483/700 [1:49:35<36:32, 10.10s/it]"
          ]
        },
        {
          "name": "stdout",
          "output_type": "stream",
          "text": [
            "Warning: Possible generic response, needs manual review.\n"
          ]
        },
        {
          "name": "stderr",
          "output_type": "stream",
          "text": [
            "Processing Functions:  70%|███████   | 493/700 [1:52:05<57:36, 16.70s/it]"
          ]
        },
        {
          "name": "stdout",
          "output_type": "stream",
          "text": [
            "Warning: Possible generic response, needs manual review.\n"
          ]
        },
        {
          "name": "stderr",
          "output_type": "stream",
          "text": [
            "Processing Functions:  72%|███████▏  | 501/700 [1:54:06<50:40, 15.28s/it]"
          ]
        },
        {
          "name": "stdout",
          "output_type": "stream",
          "text": [
            "Warning: Possible generic response, needs manual review.\n"
          ]
        },
        {
          "name": "stderr",
          "output_type": "stream",
          "text": [
            "Processing Functions:  73%|███████▎  | 513/700 [1:56:26<44:47, 14.37s/it]"
          ]
        },
        {
          "name": "stdout",
          "output_type": "stream",
          "text": [
            "Warning: Possible generic response, needs manual review.\n"
          ]
        },
        {
          "name": "stderr",
          "output_type": "stream",
          "text": [
            "Processing Functions:  76%|███████▌  | 533/700 [2:00:03<23:52,  8.58s/it]"
          ]
        },
        {
          "name": "stdout",
          "output_type": "stream",
          "text": [
            "Warning: Possible generic response, needs manual review.\n"
          ]
        },
        {
          "name": "stderr",
          "output_type": "stream",
          "text": [
            "Processing Functions:  76%|███████▋  | 535/700 [2:00:30<33:36, 12.22s/it]"
          ]
        },
        {
          "name": "stdout",
          "output_type": "stream",
          "text": [
            "Warning: Possible generic response, needs manual review.\n"
          ]
        },
        {
          "name": "stderr",
          "output_type": "stream",
          "text": [
            "Processing Functions:  77%|███████▋  | 539/700 [2:01:45<47:04, 17.54s/it]"
          ]
        },
        {
          "name": "stdout",
          "output_type": "stream",
          "text": [
            "Warning: Possible generic response, needs manual review.\n"
          ]
        },
        {
          "name": "stderr",
          "output_type": "stream",
          "text": [
            "Processing Functions:  79%|███████▉  | 553/700 [2:05:03<33:01, 13.48s/it]"
          ]
        },
        {
          "name": "stdout",
          "output_type": "stream",
          "text": [
            "Warning: Possible generic response, needs manual review.\n"
          ]
        },
        {
          "name": "stderr",
          "output_type": "stream",
          "text": [
            "Processing Functions:  80%|███████▉  | 559/700 [2:06:36<41:00, 17.45s/it]"
          ]
        },
        {
          "name": "stdout",
          "output_type": "stream",
          "text": [
            "Warning: Possible generic response, needs manual review.\n"
          ]
        },
        {
          "name": "stderr",
          "output_type": "stream",
          "text": [
            "Processing Functions:  86%|████████▌ | 602/700 [2:17:27<22:46, 13.94s/it]"
          ]
        },
        {
          "name": "stdout",
          "output_type": "stream",
          "text": [
            "Warning: Possible generic response, needs manual review.\n"
          ]
        },
        {
          "name": "stderr",
          "output_type": "stream",
          "text": [
            "Processing Functions:  88%|████████▊ | 617/700 [2:21:24<15:01, 10.87s/it]"
          ]
        },
        {
          "name": "stdout",
          "output_type": "stream",
          "text": [
            "Warning: Possible generic response, needs manual review.\n"
          ]
        },
        {
          "name": "stderr",
          "output_type": "stream",
          "text": [
            "Processing Functions:  91%|█████████ | 636/700 [2:26:34<19:17, 18.08s/it]"
          ]
        },
        {
          "name": "stdout",
          "output_type": "stream",
          "text": [
            "Warning: Possible generic response, needs manual review.\n"
          ]
        },
        {
          "name": "stderr",
          "output_type": "stream",
          "text": [
            "Processing Functions:  92%|█████████▏| 641/700 [2:27:35<13:26, 13.67s/it]"
          ]
        },
        {
          "name": "stdout",
          "output_type": "stream",
          "text": [
            "Warning: Possible generic response, needs manual review.\n"
          ]
        },
        {
          "name": "stderr",
          "output_type": "stream",
          "text": [
            "Processing Functions:  95%|█████████▍| 663/700 [2:32:15<08:11, 13.28s/it]"
          ]
        },
        {
          "name": "stdout",
          "output_type": "stream",
          "text": [
            "Warning: Possible generic response, needs manual review.\n"
          ]
        },
        {
          "name": "stderr",
          "output_type": "stream",
          "text": [
            "Processing Functions:  95%|█████████▌| 668/700 [2:33:26<07:17, 13.67s/it]"
          ]
        },
        {
          "name": "stdout",
          "output_type": "stream",
          "text": [
            "Warning: Possible generic response, needs manual review.\n"
          ]
        },
        {
          "name": "stderr",
          "output_type": "stream",
          "text": [
            "Processing Functions:  96%|█████████▌| 670/700 [2:33:41<05:18, 10.63s/it]"
          ]
        },
        {
          "name": "stdout",
          "output_type": "stream",
          "text": [
            "Warning: Possible generic response, needs manual review.\n"
          ]
        },
        {
          "name": "stderr",
          "output_type": "stream",
          "text": [
            "Processing Functions:  99%|█████████▉| 693/700 [2:39:29<01:13, 10.54s/it]"
          ]
        },
        {
          "name": "stdout",
          "output_type": "stream",
          "text": [
            "Warning: Possible generic response, needs manual review.\n"
          ]
        },
        {
          "name": "stderr",
          "output_type": "stream",
          "text": [
            "Processing Functions: 100%|██████████| 700/700 [2:40:54<00:00, 13.79s/it]\n"
          ]
        },
        {
          "data": {
            "application/vnd.google.colaboratory.intrinsic+json": {
              "summary": "{\n  \"name\": \"test_df\",\n  \"rows\": 700,\n  \"fields\": [\n    {\n      \"column\": \"func_code_string\",\n      \"properties\": {\n        \"dtype\": \"string\",\n        \"num_unique_values\": 700,\n        \"samples\": [\n          \"public void internalCreate(OrientDBConfig config, OSharedContext ctx) {\\n    this.sharedContext = ctx;\\n    this.status = STATUS.OPEN;\\n    // THIS IF SHOULDN'T BE NEEDED, CREATE HAPPEN ONLY IN EMBEDDED\\n    applyAttributes(config);\\n    applyListeners(config);\\n    metadata = new OMetadataDefault(this);\\n    installHooksEmbedded();\\n    createMetadata(ctx);\\n\\n    if (this.getMetadata().getCommandCache().isEnabled())\\n      registerHook(new OCommandCacheHook(this), ORecordHook.HOOK_POSITION.REGULAR);\\n  }\",\n          \"public OServerUserConfiguration getUser(final String username) {\\n    OServerUserConfiguration userCfg = null;\\n\\n    try {\\n      if (getServer() != null) {\\n        OUser user = getServer().getSecurity().getSystemUser(username, null);\\n\\n        if (user != null && user.getAccountStatus() == OSecurityUser.STATUSES.ACTIVE) {\\n          userCfg = new OServerUserConfiguration(user.getName(), \\\"\\\", \\\"\\\");\\n        }\\n      }\\n    } catch (Exception ex) {\\n      OLogManager.instance().error(this, \\\"getUser()\\\", ex);\\n    }\\n\\n    return userCfg;\\n  }\",\n          \"public static JSONObject jsonFromElement(final Element element, final Set<String> propertyKeys, final GraphSONMode mode)\\n      throws JSONException {\\n    final OGraphSONUtility graphson = element instanceof Edge ? new OGraphSONUtility(mode, null, null, propertyKeys)\\n        : new OGraphSONUtility(mode, null, propertyKeys, null);\\n    return graphson.jsonFromElement(element);\\n  }\"\n        ],\n        \"semantic_type\": \"\",\n        \"description\": \"\"\n      }\n    },\n    {\n      \"column\": \"func_documentation_string\",\n      \"properties\": {\n        \"dtype\": \"string\",\n        \"num_unique_values\": 580,\n        \"samples\": [\n          \"Sets a property value\\n\\n@param iName  Property name\\n@param iValue new value to set\\n\\n@return The previous value if any, otherwise null\",\n          \"Fires event about exception is thrown in data flush thread\",\n          \"Deletes the current record.\"\n        ],\n        \"semantic_type\": \"\",\n        \"description\": \"\"\n      }\n    },\n    {\n      \"column\": \"Summaries\",\n      \"properties\": {\n        \"dtype\": \"string\",\n        \"num_unique_values\": 662,\n        \"samples\": [\n          \"The `compress` function takes a JSON string as input and returns its GZIP-compressed byte array. It converts the input string to UTF-8 bytes, compresses them using a `GZIPOutputStream` with a 16KB buffer, and returns the compressed data. The function handles null or empty input by returning null and includes error logging and resource cleanup in case of exceptions.\",\n          \"This function, `printExceptionMessage`, appends detailed exception information to a provided message and logs it at a specified level. It takes three parameters: an `Exception` object `e`, a base message string, and a logging level string. The function adds the exception's class name and message (if available) to the base message, then logs the result using `messageHandler` based on the specified level (`debug`, `info`, `warn`, or `error`), and returns the updated message.\",\n          \"The function `reset` resets a system state by either executing a distributed reset across the cluster or performing a local reset, depending on the `executeViaDistributed` boolean parameter. If `executeViaDistributed` is true, it sends a `RESET` action over the cluster and catches any interrupt or execution exceptions, logging them before throwing a new `ODatabaseException`. If false, it performs a local reset and returns the result of the operation.\"\n        ],\n        \"semantic_type\": \"\",\n        \"description\": \"\"\n      }\n    }\n  ]\n}",
              "type": "dataframe",
              "variable_name": "test_df"
            },
            "text/html": [
              "\n",
              "  <div id=\"df-6084a7ef-b7d0-46d0-86db-6f409ef0600c\" class=\"colab-df-container\">\n",
              "    <div>\n",
              "<style scoped>\n",
              "    .dataframe tbody tr th:only-of-type {\n",
              "        vertical-align: middle;\n",
              "    }\n",
              "\n",
              "    .dataframe tbody tr th {\n",
              "        vertical-align: top;\n",
              "    }\n",
              "\n",
              "    .dataframe thead th {\n",
              "        text-align: right;\n",
              "    }\n",
              "</style>\n",
              "<table border=\"1\" class=\"dataframe\">\n",
              "  <thead>\n",
              "    <tr style=\"text-align: right;\">\n",
              "      <th></th>\n",
              "      <th>func_code_string</th>\n",
              "      <th>func_documentation_string</th>\n",
              "      <th>Summaries</th>\n",
              "    </tr>\n",
              "  </thead>\n",
              "  <tbody>\n",
              "    <tr>\n",
              "      <th>6100</th>\n",
              "      <td>@Override\\n  public void memberRemoved(final M...</td>\n",
              "      <td>Removes the node map entry.</td>\n",
              "      <td>This function, `memberRemoved`, is designed to...</td>\n",
              "    </tr>\n",
              "    <tr>\n",
              "      <th>6101</th>\n",
              "      <td>@Override\\n  public String electNewLockManager...</td>\n",
              "      <td>Elects a new server as coordinator. The electi...</td>\n",
              "      <td>This function, `electNewLockManager()`, is des...</td>\n",
              "    </tr>\n",
              "    <tr>\n",
              "      <th>6102</th>\n",
              "      <td>protected static OObjectDatabaseTx getDatabase...</td>\n",
              "      <td>Gets the current thread database as a ODatabas...</td>\n",
              "      <td>The function `getDatabase()` retrieves the cur...</td>\n",
              "    </tr>\n",
              "    <tr>\n",
              "      <th>6103</th>\n",
              "      <td>public String toCreateIndexDDL(final String in...</td>\n",
              "      <td>{@inheritDoc}\\n\\n@param indexName\\n@param inde...</td>\n",
              "      <td>This Java function, `toCreateIndexDDL`, genera...</td>\n",
              "    </tr>\n",
              "    <tr>\n",
              "      <th>6104</th>\n",
              "      <td>protected void init(final Configuration config...</td>\n",
              "      <td>Builds a OrientGraph instance passing a config...</td>\n",
              "      <td>The function `init` initializes various config...</td>\n",
              "    </tr>\n",
              "    <tr>\n",
              "      <th>...</th>\n",
              "      <td>...</td>\n",
              "      <td>...</td>\n",
              "      <td>...</td>\n",
              "    </tr>\n",
              "    <tr>\n",
              "      <th>6795</th>\n",
              "      <td>@Override\\n  @Deprecated\\n  public &lt;REC extend...</td>\n",
              "      <td>{@inheritDoc}</td>\n",
              "      <td>The `browseCluster` method, which is deprecate...</td>\n",
              "    </tr>\n",
              "    <tr>\n",
              "      <th>6796</th>\n",
              "      <td>public OCommandRequest command(final OCommandR...</td>\n",
              "      <td>{@inheritDoc}</td>\n",
              "      <td>The function `command` performs security check...</td>\n",
              "    </tr>\n",
              "    <tr>\n",
              "      <th>6797</th>\n",
              "      <td>public &lt;RET extends List&lt;?&gt;&gt; RET query(final O...</td>\n",
              "      <td>{@inheritDoc}</td>\n",
              "      <td>The `query` function executes a query using th...</td>\n",
              "    </tr>\n",
              "    <tr>\n",
              "      <th>6798</th>\n",
              "      <td>@Override\\n  public long countClusterElements(...</td>\n",
              "      <td>{@inheritDoc}</td>\n",
              "      <td>The function `countClusterElements` calculates...</td>\n",
              "    </tr>\n",
              "    <tr>\n",
              "      <th>6799</th>\n",
              "      <td>@Override\\n  public long countClusterElements(...</td>\n",
              "      <td>{@inheritDoc}</td>\n",
              "      <td>This function counts the number of elements st...</td>\n",
              "    </tr>\n",
              "  </tbody>\n",
              "</table>\n",
              "<p>700 rows × 3 columns</p>\n",
              "</div>\n",
              "    <div class=\"colab-df-buttons\">\n",
              "\n",
              "  <div class=\"colab-df-container\">\n",
              "    <button class=\"colab-df-convert\" onclick=\"convertToInteractive('df-6084a7ef-b7d0-46d0-86db-6f409ef0600c')\"\n",
              "            title=\"Convert this dataframe to an interactive table.\"\n",
              "            style=\"display:none;\">\n",
              "\n",
              "  <svg xmlns=\"http://www.w3.org/2000/svg\" height=\"24px\" viewBox=\"0 -960 960 960\">\n",
              "    <path d=\"M120-120v-720h720v720H120Zm60-500h600v-160H180v160Zm220 220h160v-160H400v160Zm0 220h160v-160H400v160ZM180-400h160v-160H180v160Zm440 0h160v-160H620v160ZM180-180h160v-160H180v160Zm440 0h160v-160H620v160Z\"/>\n",
              "  </svg>\n",
              "    </button>\n",
              "\n",
              "  <style>\n",
              "    .colab-df-container {\n",
              "      display:flex;\n",
              "      gap: 12px;\n",
              "    }\n",
              "\n",
              "    .colab-df-convert {\n",
              "      background-color: #E8F0FE;\n",
              "      border: none;\n",
              "      border-radius: 50%;\n",
              "      cursor: pointer;\n",
              "      display: none;\n",
              "      fill: #1967D2;\n",
              "      height: 32px;\n",
              "      padding: 0 0 0 0;\n",
              "      width: 32px;\n",
              "    }\n",
              "\n",
              "    .colab-df-convert:hover {\n",
              "      background-color: #E2EBFA;\n",
              "      box-shadow: 0px 1px 2px rgba(60, 64, 67, 0.3), 0px 1px 3px 1px rgba(60, 64, 67, 0.15);\n",
              "      fill: #174EA6;\n",
              "    }\n",
              "\n",
              "    .colab-df-buttons div {\n",
              "      margin-bottom: 4px;\n",
              "    }\n",
              "\n",
              "    [theme=dark] .colab-df-convert {\n",
              "      background-color: #3B4455;\n",
              "      fill: #D2E3FC;\n",
              "    }\n",
              "\n",
              "    [theme=dark] .colab-df-convert:hover {\n",
              "      background-color: #434B5C;\n",
              "      box-shadow: 0px 1px 3px 1px rgba(0, 0, 0, 0.15);\n",
              "      filter: drop-shadow(0px 1px 2px rgba(0, 0, 0, 0.3));\n",
              "      fill: #FFFFFF;\n",
              "    }\n",
              "  </style>\n",
              "\n",
              "    <script>\n",
              "      const buttonEl =\n",
              "        document.querySelector('#df-6084a7ef-b7d0-46d0-86db-6f409ef0600c button.colab-df-convert');\n",
              "      buttonEl.style.display =\n",
              "        google.colab.kernel.accessAllowed ? 'block' : 'none';\n",
              "\n",
              "      async function convertToInteractive(key) {\n",
              "        const element = document.querySelector('#df-6084a7ef-b7d0-46d0-86db-6f409ef0600c');\n",
              "        const dataTable =\n",
              "          await google.colab.kernel.invokeFunction('convertToInteractive',\n",
              "                                                    [key], {});\n",
              "        if (!dataTable) return;\n",
              "\n",
              "        const docLinkHtml = 'Like what you see? Visit the ' +\n",
              "          '<a target=\"_blank\" href=https://colab.research.google.com/notebooks/data_table.ipynb>data table notebook</a>'\n",
              "          + ' to learn more about interactive tables.';\n",
              "        element.innerHTML = '';\n",
              "        dataTable['output_type'] = 'display_data';\n",
              "        await google.colab.output.renderOutput(dataTable, element);\n",
              "        const docLink = document.createElement('div');\n",
              "        docLink.innerHTML = docLinkHtml;\n",
              "        element.appendChild(docLink);\n",
              "      }\n",
              "    </script>\n",
              "  </div>\n",
              "\n",
              "\n",
              "<div id=\"df-f753150d-0a48-476f-b2f8-1dedf7245ce9\">\n",
              "  <button class=\"colab-df-quickchart\" onclick=\"quickchart('df-f753150d-0a48-476f-b2f8-1dedf7245ce9')\"\n",
              "            title=\"Suggest charts\"\n",
              "            style=\"display:none;\">\n",
              "\n",
              "<svg xmlns=\"http://www.w3.org/2000/svg\" height=\"24px\"viewBox=\"0 0 24 24\"\n",
              "     width=\"24px\">\n",
              "    <g>\n",
              "        <path d=\"M19 3H5c-1.1 0-2 .9-2 2v14c0 1.1.9 2 2 2h14c1.1 0 2-.9 2-2V5c0-1.1-.9-2-2-2zM9 17H7v-7h2v7zm4 0h-2V7h2v10zm4 0h-2v-4h2v4z\"/>\n",
              "    </g>\n",
              "</svg>\n",
              "  </button>\n",
              "\n",
              "<style>\n",
              "  .colab-df-quickchart {\n",
              "      --bg-color: #E8F0FE;\n",
              "      --fill-color: #1967D2;\n",
              "      --hover-bg-color: #E2EBFA;\n",
              "      --hover-fill-color: #174EA6;\n",
              "      --disabled-fill-color: #AAA;\n",
              "      --disabled-bg-color: #DDD;\n",
              "  }\n",
              "\n",
              "  [theme=dark] .colab-df-quickchart {\n",
              "      --bg-color: #3B4455;\n",
              "      --fill-color: #D2E3FC;\n",
              "      --hover-bg-color: #434B5C;\n",
              "      --hover-fill-color: #FFFFFF;\n",
              "      --disabled-bg-color: #3B4455;\n",
              "      --disabled-fill-color: #666;\n",
              "  }\n",
              "\n",
              "  .colab-df-quickchart {\n",
              "    background-color: var(--bg-color);\n",
              "    border: none;\n",
              "    border-radius: 50%;\n",
              "    cursor: pointer;\n",
              "    display: none;\n",
              "    fill: var(--fill-color);\n",
              "    height: 32px;\n",
              "    padding: 0;\n",
              "    width: 32px;\n",
              "  }\n",
              "\n",
              "  .colab-df-quickchart:hover {\n",
              "    background-color: var(--hover-bg-color);\n",
              "    box-shadow: 0 1px 2px rgba(60, 64, 67, 0.3), 0 1px 3px 1px rgba(60, 64, 67, 0.15);\n",
              "    fill: var(--button-hover-fill-color);\n",
              "  }\n",
              "\n",
              "  .colab-df-quickchart-complete:disabled,\n",
              "  .colab-df-quickchart-complete:disabled:hover {\n",
              "    background-color: var(--disabled-bg-color);\n",
              "    fill: var(--disabled-fill-color);\n",
              "    box-shadow: none;\n",
              "  }\n",
              "\n",
              "  .colab-df-spinner {\n",
              "    border: 2px solid var(--fill-color);\n",
              "    border-color: transparent;\n",
              "    border-bottom-color: var(--fill-color);\n",
              "    animation:\n",
              "      spin 1s steps(1) infinite;\n",
              "  }\n",
              "\n",
              "  @keyframes spin {\n",
              "    0% {\n",
              "      border-color: transparent;\n",
              "      border-bottom-color: var(--fill-color);\n",
              "      border-left-color: var(--fill-color);\n",
              "    }\n",
              "    20% {\n",
              "      border-color: transparent;\n",
              "      border-left-color: var(--fill-color);\n",
              "      border-top-color: var(--fill-color);\n",
              "    }\n",
              "    30% {\n",
              "      border-color: transparent;\n",
              "      border-left-color: var(--fill-color);\n",
              "      border-top-color: var(--fill-color);\n",
              "      border-right-color: var(--fill-color);\n",
              "    }\n",
              "    40% {\n",
              "      border-color: transparent;\n",
              "      border-right-color: var(--fill-color);\n",
              "      border-top-color: var(--fill-color);\n",
              "    }\n",
              "    60% {\n",
              "      border-color: transparent;\n",
              "      border-right-color: var(--fill-color);\n",
              "    }\n",
              "    80% {\n",
              "      border-color: transparent;\n",
              "      border-right-color: var(--fill-color);\n",
              "      border-bottom-color: var(--fill-color);\n",
              "    }\n",
              "    90% {\n",
              "      border-color: transparent;\n",
              "      border-bottom-color: var(--fill-color);\n",
              "    }\n",
              "  }\n",
              "</style>\n",
              "\n",
              "  <script>\n",
              "    async function quickchart(key) {\n",
              "      const quickchartButtonEl =\n",
              "        document.querySelector('#' + key + ' button');\n",
              "      quickchartButtonEl.disabled = true;  // To prevent multiple clicks.\n",
              "      quickchartButtonEl.classList.add('colab-df-spinner');\n",
              "      try {\n",
              "        const charts = await google.colab.kernel.invokeFunction(\n",
              "            'suggestCharts', [key], {});\n",
              "      } catch (error) {\n",
              "        console.error('Error during call to suggestCharts:', error);\n",
              "      }\n",
              "      quickchartButtonEl.classList.remove('colab-df-spinner');\n",
              "      quickchartButtonEl.classList.add('colab-df-quickchart-complete');\n",
              "    }\n",
              "    (() => {\n",
              "      let quickchartButtonEl =\n",
              "        document.querySelector('#df-f753150d-0a48-476f-b2f8-1dedf7245ce9 button');\n",
              "      quickchartButtonEl.style.display =\n",
              "        google.colab.kernel.accessAllowed ? 'block' : 'none';\n",
              "    })();\n",
              "  </script>\n",
              "</div>\n",
              "\n",
              "  <div id=\"id_2548ecae-fdca-4d99-a20a-03b4e3367ac1\">\n",
              "    <style>\n",
              "      .colab-df-generate {\n",
              "        background-color: #E8F0FE;\n",
              "        border: none;\n",
              "        border-radius: 50%;\n",
              "        cursor: pointer;\n",
              "        display: none;\n",
              "        fill: #1967D2;\n",
              "        height: 32px;\n",
              "        padding: 0 0 0 0;\n",
              "        width: 32px;\n",
              "      }\n",
              "\n",
              "      .colab-df-generate:hover {\n",
              "        background-color: #E2EBFA;\n",
              "        box-shadow: 0px 1px 2px rgba(60, 64, 67, 0.3), 0px 1px 3px 1px rgba(60, 64, 67, 0.15);\n",
              "        fill: #174EA6;\n",
              "      }\n",
              "\n",
              "      [theme=dark] .colab-df-generate {\n",
              "        background-color: #3B4455;\n",
              "        fill: #D2E3FC;\n",
              "      }\n",
              "\n",
              "      [theme=dark] .colab-df-generate:hover {\n",
              "        background-color: #434B5C;\n",
              "        box-shadow: 0px 1px 3px 1px rgba(0, 0, 0, 0.15);\n",
              "        filter: drop-shadow(0px 1px 2px rgba(0, 0, 0, 0.3));\n",
              "        fill: #FFFFFF;\n",
              "      }\n",
              "    </style>\n",
              "    <button class=\"colab-df-generate\" onclick=\"generateWithVariable('test_df')\"\n",
              "            title=\"Generate code using this dataframe.\"\n",
              "            style=\"display:none;\">\n",
              "\n",
              "  <svg xmlns=\"http://www.w3.org/2000/svg\" height=\"24px\"viewBox=\"0 0 24 24\"\n",
              "       width=\"24px\">\n",
              "    <path d=\"M7,19H8.4L18.45,9,17,7.55,7,17.6ZM5,21V16.75L18.45,3.32a2,2,0,0,1,2.83,0l1.4,1.43a1.91,1.91,0,0,1,.58,1.4,1.91,1.91,0,0,1-.58,1.4L9.25,21ZM18.45,9,17,7.55Zm-12,3A5.31,5.31,0,0,0,4.9,8.1,5.31,5.31,0,0,0,1,6.5,5.31,5.31,0,0,0,4.9,4.9,5.31,5.31,0,0,0,6.5,1,5.31,5.31,0,0,0,8.1,4.9,5.31,5.31,0,0,0,12,6.5,5.46,5.46,0,0,0,6.5,12Z\"/>\n",
              "  </svg>\n",
              "    </button>\n",
              "    <script>\n",
              "      (() => {\n",
              "      const buttonEl =\n",
              "        document.querySelector('#id_2548ecae-fdca-4d99-a20a-03b4e3367ac1 button.colab-df-generate');\n",
              "      buttonEl.style.display =\n",
              "        google.colab.kernel.accessAllowed ? 'block' : 'none';\n",
              "\n",
              "      buttonEl.onclick = () => {\n",
              "        google.colab.notebook.generateWithVariable('test_df');\n",
              "      }\n",
              "      })();\n",
              "    </script>\n",
              "  </div>\n",
              "\n",
              "    </div>\n",
              "  </div>\n"
            ],
            "text/plain": [
              "                                       func_code_string  \\\n",
              "6100  @Override\\n  public void memberRemoved(final M...   \n",
              "6101  @Override\\n  public String electNewLockManager...   \n",
              "6102  protected static OObjectDatabaseTx getDatabase...   \n",
              "6103  public String toCreateIndexDDL(final String in...   \n",
              "6104  protected void init(final Configuration config...   \n",
              "...                                                 ...   \n",
              "6795  @Override\\n  @Deprecated\\n  public <REC extend...   \n",
              "6796  public OCommandRequest command(final OCommandR...   \n",
              "6797  public <RET extends List<?>> RET query(final O...   \n",
              "6798  @Override\\n  public long countClusterElements(...   \n",
              "6799  @Override\\n  public long countClusterElements(...   \n",
              "\n",
              "                              func_documentation_string  \\\n",
              "6100                        Removes the node map entry.   \n",
              "6101  Elects a new server as coordinator. The electi...   \n",
              "6102  Gets the current thread database as a ODatabas...   \n",
              "6103  {@inheritDoc}\\n\\n@param indexName\\n@param inde...   \n",
              "6104  Builds a OrientGraph instance passing a config...   \n",
              "...                                                 ...   \n",
              "6795                                      {@inheritDoc}   \n",
              "6796                                      {@inheritDoc}   \n",
              "6797                                      {@inheritDoc}   \n",
              "6798                                      {@inheritDoc}   \n",
              "6799                                      {@inheritDoc}   \n",
              "\n",
              "                                              Summaries  \n",
              "6100  This function, `memberRemoved`, is designed to...  \n",
              "6101  This function, `electNewLockManager()`, is des...  \n",
              "6102  The function `getDatabase()` retrieves the cur...  \n",
              "6103  This Java function, `toCreateIndexDDL`, genera...  \n",
              "6104  The function `init` initializes various config...  \n",
              "...                                                 ...  \n",
              "6795  The `browseCluster` method, which is deprecate...  \n",
              "6796  The function `command` performs security check...  \n",
              "6797  The `query` function executes a query using th...  \n",
              "6798  The function `countClusterElements` calculates...  \n",
              "6799  This function counts the number of elements st...  \n",
              "\n",
              "[700 rows x 3 columns]"
            ]
          },
          "execution_count": 5,
          "metadata": {},
          "output_type": "execute_result"
        }
      ],
      "source": [
        "# Ensure you have a DataFrame with at least 600 rows\n",
        "test_df = summarize_code_df(test_df)\n",
        "\n",
        "# Display the DataFrame with summaries\n",
        "test_df"
      ]
    },
    {
      "cell_type": "code",
      "execution_count": null,
      "metadata": {
        "colab": {
          "base_uri": "https://localhost:8080/",
          "height": 17
        },
        "id": "eaULbHrMiKMR",
        "outputId": "952b69d4-d247-4088-c67b-4e92df65b761"
      },
      "outputs": [
        {
          "data": {
            "application/javascript": "\n    async function download(id, filename, size) {\n      if (!google.colab.kernel.accessAllowed) {\n        return;\n      }\n      const div = document.createElement('div');\n      const label = document.createElement('label');\n      label.textContent = `Downloading \"${filename}\": `;\n      div.appendChild(label);\n      const progress = document.createElement('progress');\n      progress.max = size;\n      div.appendChild(progress);\n      document.body.appendChild(div);\n\n      const buffers = [];\n      let downloaded = 0;\n\n      const channel = await google.colab.kernel.comms.open(id);\n      // Send a message to notify the kernel that we're ready.\n      channel.send({})\n\n      for await (const message of channel.messages) {\n        // Send a message to notify the kernel that we're ready.\n        channel.send({})\n        if (message.buffers) {\n          for (const buffer of message.buffers) {\n            buffers.push(buffer);\n            downloaded += buffer.byteLength;\n            progress.value = downloaded;\n          }\n        }\n      }\n      const blob = new Blob(buffers, {type: 'application/binary'});\n      const a = document.createElement('a');\n      a.href = window.URL.createObjectURL(blob);\n      a.download = filename;\n      div.appendChild(a);\n      a.click();\n      div.remove();\n    }\n  ",
            "text/plain": [
              "<IPython.core.display.Javascript object>"
            ]
          },
          "metadata": {},
          "output_type": "display_data"
        },
        {
          "data": {
            "application/javascript": "download(\"download_af2c5c84-484a-4bb9-afc2-d3b7fe1a0710\", \"deep_seek_6100_to_6800_with_summaries.csv\", 1027845)",
            "text/plain": [
              "<IPython.core.display.Javascript object>"
            ]
          },
          "metadata": {},
          "output_type": "display_data"
        }
      ],
      "source": [
        "# Save and download the updated DataFrame\n",
        "from google.colab import files\n",
        "\n",
        "test_df.to_csv(\"deep_seek_6100_to_6800_with_summaries.csv\", index=False)\n",
        "files.download(\"deep_seek_6100_to_6800_with_summaries.csv\")\n"
      ]
    },
    {
      "cell_type": "code",
      "execution_count": null,
      "metadata": {
        "id": "A-TBxClugtt_"
      },
      "outputs": [],
      "source": [
        "merged_deep_seek_summaries = pd.read_csv(\"deep_seek_6100_to_6800_with_summaries.csv\")\n",
        "\n",
        "# Identify rows with missing summaries\n",
        "missing_summaries_df = merged_deep_seek_summaries[merged_deep_seek_summaries['Summaries'].isna()]\n",
        "\n",
        "# Reprocess missing summaries\n",
        "if not missing_summaries_df.empty:\n",
        "    updated_summaries_df = summarize_code_df(missing_summaries_df)\n",
        "\n",
        "    # Update the original DataFrame\n",
        "    merged_deep_seek_summaries.update(updated_summaries_df)\n",
        "\n",
        "    # Save the updated DataFrame\n",
        "    merged_deep_seek_summaries.to_csv(\"deep_seek_6100_to_6800_with_summaries.csv\", index=False)"
      ]
    }
  ],
  "metadata": {
    "colab": {
      "provenance": []
    },
    "kernelspec": {
      "display_name": "Python 3",
      "name": "python3"
    },
    "language_info": {
      "name": "python"
    }
  },
  "nbformat": 4,
  "nbformat_minor": 0
}
